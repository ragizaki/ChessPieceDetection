{
 "cells": [
  {
   "cell_type": "code",
   "execution_count": 1,
   "id": "6fe21a7b",
   "metadata": {
    "execution": {
     "iopub.execute_input": "2024-01-19T06:21:43.537635Z",
     "iopub.status.busy": "2024-01-19T06:21:43.536831Z",
     "iopub.status.idle": "2024-01-19T06:21:56.889204Z",
     "shell.execute_reply": "2024-01-19T06:21:56.888274Z"
    },
    "papermill": {
     "duration": 13.362807,
     "end_time": "2024-01-19T06:21:56.891671",
     "exception": false,
     "start_time": "2024-01-19T06:21:43.528864",
     "status": "completed"
    },
    "tags": []
   },
   "outputs": [
    {
     "name": "stderr",
     "output_type": "stream",
     "text": [
      "/opt/conda/lib/python3.10/site-packages/scipy/__init__.py:146: UserWarning: A NumPy version >=1.16.5 and <1.23.0 is required for this version of SciPy (detected version 1.24.3\n",
      "  warnings.warn(f\"A NumPy version >={np_minversion} and <{np_maxversion}\"\n"
     ]
    }
   ],
   "source": [
    "import tensorflow as tf\n",
    "import matplotlib.pyplot as plt\n",
    "from tensorflow.keras.utils import image_dataset_from_directory"
   ]
  },
  {
   "cell_type": "markdown",
   "id": "7d33eff9",
   "metadata": {
    "papermill": {
     "duration": 0.005999,
     "end_time": "2024-01-19T06:21:56.904254",
     "exception": false,
     "start_time": "2024-01-19T06:21:56.898255",
     "status": "completed"
    },
    "tags": []
   },
   "source": [
    "## Load Data\n",
    "We first load the training, test and validation datasets into a `tf.data.Dataset` helper to facilitate caching, prefetching and conversions. Our data consists of 13 classes: pawn, rook, bishop, knight, queen and king in both white and black (12 classes) plus one class for an empty square (no piece). The dataset consists of 2406 total images."
   ]
  },
  {
   "cell_type": "code",
   "execution_count": 2,
   "id": "238828d5",
   "metadata": {
    "execution": {
     "iopub.execute_input": "2024-01-19T06:21:56.917957Z",
     "iopub.status.busy": "2024-01-19T06:21:56.917409Z",
     "iopub.status.idle": "2024-01-19T06:21:58.432572Z",
     "shell.execute_reply": "2024-01-19T06:21:58.431798Z"
    },
    "papermill": {
     "duration": 1.524552,
     "end_time": "2024-01-19T06:21:58.434897",
     "exception": false,
     "start_time": "2024-01-19T06:21:56.910345",
     "status": "completed"
    },
    "tags": []
   },
   "outputs": [
    {
     "name": "stdout",
     "output_type": "stream",
     "text": [
      "Found 1936 files belonging to 13 classes.\n",
      "Found 234 files belonging to 13 classes.\n",
      "Found 236 files belonging to 13 classes.\n"
     ]
    }
   ],
   "source": [
    "\n",
    "ds_train = image_dataset_from_directory(\n",
    "    \"../input/data-train/train\",\n",
    "    labels=\"inferred\",\n",
    "    label_mode=\"categorical\",\n",
    "    image_size=[224, 224],\n",
    "    interpolation=\"nearest\",\n",
    "    batch_size=32,\n",
    "    shuffle=True,\n",
    ")\n",
    "\n",
    "ds_test = image_dataset_from_directory(\n",
    "    \"../input/data-test/test\",\n",
    "    labels=\"inferred\",\n",
    "    label_mode=\"categorical\",\n",
    "    image_size=[224, 224],\n",
    "    interpolation=\"nearest\",\n",
    "    batch_size=32,\n",
    "    shuffle=True,\n",
    ")\n",
    "\n",
    "ds_val = image_dataset_from_directory(\n",
    "    \"../input/data-valid/valid\",\n",
    "    labels=\"inferred\",\n",
    "    label_mode=\"categorical\",\n",
    "    image_size=[224, 224],\n",
    "    interpolation=\"nearest\",\n",
    "    batch_size=32,\n",
    "    shuffle=False,\n",
    ")"
   ]
  },
  {
   "cell_type": "markdown",
   "id": "75922151",
   "metadata": {
    "papermill": {
     "duration": 0.006468,
     "end_time": "2024-01-19T06:21:58.448382",
     "exception": false,
     "start_time": "2024-01-19T06:21:58.441914",
     "status": "completed"
    },
    "tags": []
   },
   "source": [
    "## Transform Data\n",
    "Here, we use a `convert_to_float` helper function to convert the dataset from ints to floats for consistency and higher precision. We also use the `cache` function to load the images from memory after the first iteration for quicker training and improved performance. We also utilize tensorflow's `AUTOTUNE` macro to automate the buffer size for prefetching."
   ]
  },
  {
   "cell_type": "code",
   "execution_count": 3,
   "id": "992a7780",
   "metadata": {
    "execution": {
     "iopub.execute_input": "2024-01-19T06:21:58.462238Z",
     "iopub.status.busy": "2024-01-19T06:21:58.461975Z",
     "iopub.status.idle": "2024-01-19T06:21:58.540172Z",
     "shell.execute_reply": "2024-01-19T06:21:58.539129Z"
    },
    "papermill": {
     "duration": 0.090581,
     "end_time": "2024-01-19T06:21:58.545373",
     "exception": false,
     "start_time": "2024-01-19T06:21:58.454792",
     "status": "completed"
    },
    "tags": []
   },
   "outputs": [],
   "source": [
    "def convert_to_float(image, label):\n",
    "    image = tf.image.convert_image_dtype(image, dtype=tf.float32)\n",
    "    return image, label\n",
    "\n",
    "AUTOTUNE = tf.data.experimental.AUTOTUNE\n",
    "ds_train = ds_train.map(convert_to_float).cache().prefetch(buffer_size=AUTOTUNE)\n",
    "ds_test = ds_test.map(convert_to_float).cache().prefetch(buffer_size=AUTOTUNE)\n",
    "ds_val = ds_val.map(convert_to_float).cache().prefetch(buffer_size=AUTOTUNE)"
   ]
  },
  {
   "cell_type": "markdown",
   "id": "b820c133",
   "metadata": {
    "papermill": {
     "duration": 0.006628,
     "end_time": "2024-01-19T06:21:58.559777",
     "exception": false,
     "start_time": "2024-01-19T06:21:58.553149",
     "status": "completed"
    },
    "tags": []
   },
   "source": [
    "## Data Augmentation\n",
    "Our dataset is quite small, there are only roughly 2,000 training images. We will use a data augmentation technique to increase the number of images and improve our performance model. Here, we choose practical transformations that would result in realistic chess piece positions. For example, horizontal flipping, blurring, and random translations. We do not use rotations or vertical flips here, as it would not make sense for pieces to be upside down or heavily rotated."
   ]
  },
  {
   "cell_type": "code",
   "execution_count": 4,
   "id": "d99dd1fe",
   "metadata": {
    "execution": {
     "iopub.execute_input": "2024-01-19T06:21:58.578981Z",
     "iopub.status.busy": "2024-01-19T06:21:58.578569Z",
     "iopub.status.idle": "2024-01-19T06:21:58.616201Z",
     "shell.execute_reply": "2024-01-19T06:21:58.615324Z"
    },
    "papermill": {
     "duration": 0.049486,
     "end_time": "2024-01-19T06:21:58.618661",
     "exception": false,
     "start_time": "2024-01-19T06:21:58.569175",
     "status": "completed"
    },
    "tags": []
   },
   "outputs": [],
   "source": [
    "data_augmentation = tf.keras.Sequential([\n",
    "    tf.keras.layers.experimental.preprocessing.RandomFlip(mode='horizontal'),\n",
    "    tf.keras.layers.experimental.preprocessing.RandomContrast(factor=0.5),\n",
    "    tf.keras.layers.experimental.preprocessing.RandomTranslation(height_factor=0.1, width_factor=0.1),\n",
    "])"
   ]
  },
  {
   "cell_type": "markdown",
   "id": "36a2f8c7",
   "metadata": {
    "papermill": {
     "duration": 0.006744,
     "end_time": "2024-01-19T06:21:58.634548",
     "exception": false,
     "start_time": "2024-01-19T06:21:58.627804",
     "status": "completed"
    },
    "tags": []
   },
   "source": [
    "## Transfer Learning\n",
    "Typically during CNN model creation, we leverage the capabilities of a pre-trained model and enhance it with trainable convolution layers and the classification head. I will follow this model and leverage transfer learning on the pre-trained base **VGG16** model from Keras. We will include one Convolutional layer to train specifically on our dataset. Looking at the VGG16 model below, we can see it has 13 convolutional layers, 5 max pooling layers and 3 fully connected layers, trained on a total of 15 million images. This is likely to increase our performance substantially."
   ]
  },
  {
   "cell_type": "code",
   "execution_count": 5,
   "id": "73848d6a",
   "metadata": {
    "execution": {
     "iopub.execute_input": "2024-01-19T06:21:58.648486Z",
     "iopub.status.busy": "2024-01-19T06:21:58.648202Z",
     "iopub.status.idle": "2024-01-19T06:21:59.551104Z",
     "shell.execute_reply": "2024-01-19T06:21:59.549998Z"
    },
    "papermill": {
     "duration": 0.93117,
     "end_time": "2024-01-19T06:21:59.571976",
     "exception": false,
     "start_time": "2024-01-19T06:21:58.640806",
     "status": "completed"
    },
    "tags": []
   },
   "outputs": [
    {
     "name": "stdout",
     "output_type": "stream",
     "text": [
      "Downloading data from https://storage.googleapis.com/tensorflow/keras-applications/vgg16/vgg16_weights_tf_dim_ordering_tf_kernels_notop.h5\n",
      "58889256/58889256 [==============================] - 0s 0us/step\n",
      "Model: \"vgg16\"\n",
      "_________________________________________________________________\n",
      " Layer (type)                Output Shape              Param #   \n",
      "=================================================================\n",
      " input_1 (InputLayer)        [(None, 224, 224, 3)]     0         \n",
      "                                                                 \n",
      " block1_conv1 (Conv2D)       (None, 224, 224, 64)      1792      \n",
      "                                                                 \n",
      " block1_conv2 (Conv2D)       (None, 224, 224, 64)      36928     \n",
      "                                                                 \n",
      " block1_pool (MaxPooling2D)  (None, 112, 112, 64)      0         \n",
      "                                                                 \n",
      " block2_conv1 (Conv2D)       (None, 112, 112, 128)     73856     \n",
      "                                                                 \n",
      " block2_conv2 (Conv2D)       (None, 112, 112, 128)     147584    \n",
      "                                                                 \n",
      " block2_pool (MaxPooling2D)  (None, 56, 56, 128)       0         \n",
      "                                                                 \n",
      " block3_conv1 (Conv2D)       (None, 56, 56, 256)       295168    \n",
      "                                                                 \n",
      " block3_conv2 (Conv2D)       (None, 56, 56, 256)       590080    \n",
      "                                                                 \n",
      " block3_conv3 (Conv2D)       (None, 56, 56, 256)       590080    \n",
      "                                                                 \n",
      " block3_pool (MaxPooling2D)  (None, 28, 28, 256)       0         \n",
      "                                                                 \n",
      " block4_conv1 (Conv2D)       (None, 28, 28, 512)       1180160   \n",
      "                                                                 \n",
      " block4_conv2 (Conv2D)       (None, 28, 28, 512)       2359808   \n",
      "                                                                 \n",
      " block4_conv3 (Conv2D)       (None, 28, 28, 512)       2359808   \n",
      "                                                                 \n",
      " block4_pool (MaxPooling2D)  (None, 14, 14, 512)       0         \n",
      "                                                                 \n",
      " block5_conv1 (Conv2D)       (None, 14, 14, 512)       2359808   \n",
      "                                                                 \n",
      " block5_conv2 (Conv2D)       (None, 14, 14, 512)       2359808   \n",
      "                                                                 \n",
      " block5_conv3 (Conv2D)       (None, 14, 14, 512)       2359808   \n",
      "                                                                 \n",
      " block5_pool (MaxPooling2D)  (None, 7, 7, 512)         0         \n",
      "                                                                 \n",
      "=================================================================\n",
      "Total params: 14714688 (56.13 MB)\n",
      "Trainable params: 0 (0.00 Byte)\n",
      "Non-trainable params: 14714688 (56.13 MB)\n",
      "_________________________________________________________________\n"
     ]
    }
   ],
   "source": [
    "from tensorflow.keras.applications.vgg16 import VGG16\n",
    "\n",
    "model_base = VGG16(weights='imagenet', include_top=False, input_shape=(224, 224, 3))\n",
    "model_base.trainable = False\n",
    "model_base.summary()"
   ]
  },
  {
   "cell_type": "markdown",
   "id": "9868a98c",
   "metadata": {
    "papermill": {
     "duration": 0.010835,
     "end_time": "2024-01-19T06:21:59.594085",
     "exception": false,
     "start_time": "2024-01-19T06:21:59.583250",
     "status": "completed"
    },
    "tags": []
   },
   "source": [
    "## Model Head\n",
    "Now, we can define our model head which will bne trained on our data. I define the following architecture:\n",
    "- A data augmentation layer to generate transformed images to prevent overfitting\n",
    "- The VGG16 base model which is not trainable\n",
    "\n",
    "- A 2D Convolutional layer to be trained on our dataset (includes batch normalization to reduce training time)\n",
    "\n",
    "- A Global max pooling layer to flatten the outputs before feeding to the classification head\n",
    "\n",
    "- A fully connected Dense layer of 128 neurons\n",
    "- A dropout layer to prevent overfitting\n",
    "- A final Dense layer with a softmax activation to classify into one of the 13 classes"
   ]
  },
  {
   "cell_type": "code",
   "execution_count": 6,
   "id": "bfaa038f",
   "metadata": {
    "execution": {
     "iopub.execute_input": "2024-01-19T06:21:59.617463Z",
     "iopub.status.busy": "2024-01-19T06:21:59.617138Z",
     "iopub.status.idle": "2024-01-19T06:21:59.644927Z",
     "shell.execute_reply": "2024-01-19T06:21:59.644121Z"
    },
    "papermill": {
     "duration": 0.041215,
     "end_time": "2024-01-19T06:21:59.646776",
     "exception": false,
     "start_time": "2024-01-19T06:21:59.605561",
     "status": "completed"
    },
    "tags": []
   },
   "outputs": [],
   "source": [
    "from tensorflow.keras import layers\n",
    "\n",
    "model = tf.keras.Sequential([\n",
    "    data_augmentation,\n",
    "    model_base,\n",
    "    \n",
    "    layers.BatchNormalization(),\n",
    "    \n",
    "    # conv layer 1\n",
    "    layers.Conv2D(filters=256, kernel_size=3, activation='relu', padding='same'),\n",
    "    layers.BatchNormalization(),\n",
    "    \n",
    "    # conv layer 2\n",
    "    layers.Conv2D(filters=256, kernel_size=3, activation='relu', padding='same'),\n",
    "    layers.BatchNormalization(),\n",
    "    \n",
    "    tf.keras.layers.GlobalMaxPooling2D(),\n",
    "    layers.Dropout(0.4),\n",
    "\n",
    "    # Output\n",
    "    layers.Dense(13, activation='softmax'),\n",
    "])"
   ]
  },
  {
   "cell_type": "markdown",
   "id": "5b84bada",
   "metadata": {
    "papermill": {
     "duration": 0.010139,
     "end_time": "2024-01-19T06:21:59.667182",
     "exception": false,
     "start_time": "2024-01-19T06:21:59.657043",
     "status": "completed"
    },
    "tags": []
   },
   "source": [
    "## Early Stopping\n",
    "To prevent overfitting of our model, we define an early stopping callback. This is helpful to stop the model early when the validation loss is not decreasing anymore. We select `min_delta=0.001` as the threshold for imporvement, and we define `patience=20` to stop the model when there is no more deterioration in loss after 20 epochs.\n",
    "\n",
    "## Optimizer and Loss Function\n",
    "We choose the Adam optimizer as an adaptive gradient descent method which is the standard for computer vision tasks and performs well. We also select Categorical Cross Entropy as our loss function, since we have more than 2 categories (so binary cross entropy does not work here)."
   ]
  },
  {
   "cell_type": "code",
   "execution_count": 7,
   "id": "c2991128",
   "metadata": {
    "execution": {
     "iopub.execute_input": "2024-01-19T06:21:59.689950Z",
     "iopub.status.busy": "2024-01-19T06:21:59.689630Z",
     "iopub.status.idle": "2024-01-19T06:21:59.706113Z",
     "shell.execute_reply": "2024-01-19T06:21:59.705394Z"
    },
    "papermill": {
     "duration": 0.030711,
     "end_time": "2024-01-19T06:21:59.708083",
     "exception": false,
     "start_time": "2024-01-19T06:21:59.677372",
     "status": "completed"
    },
    "tags": []
   },
   "outputs": [],
   "source": [
    "early_stopping = tf.keras.callbacks.EarlyStopping(\n",
    "    min_delta=0.001,\n",
    "    patience=20,\n",
    "    restore_best_weights=True,\n",
    ")\n",
    "\n",
    "# compile model\n",
    "model.compile(\n",
    "    optimizer=\"adam\",\n",
    "    loss=\"categorical_crossentropy\",\n",
    "    metrics=['accuracy'],\n",
    ")"
   ]
  },
  {
   "cell_type": "code",
   "execution_count": 8,
   "id": "60c4796e",
   "metadata": {
    "execution": {
     "iopub.execute_input": "2024-01-19T06:21:59.732229Z",
     "iopub.status.busy": "2024-01-19T06:21:59.731546Z",
     "iopub.status.idle": "2024-01-19T06:26:34.461890Z",
     "shell.execute_reply": "2024-01-19T06:26:34.460834Z"
    },
    "papermill": {
     "duration": 274.745148,
     "end_time": "2024-01-19T06:26:34.463974",
     "exception": false,
     "start_time": "2024-01-19T06:21:59.718826",
     "status": "completed"
    },
    "tags": []
   },
   "outputs": [
    {
     "name": "stdout",
     "output_type": "stream",
     "text": [
      "Epoch 1/300\n",
      "61/61 [==============================] - 24s 223ms/step - loss: 3.7815 - accuracy: 0.3533 - val_loss: 1.5855 - val_accuracy: 0.4322\n",
      "Epoch 2/300\n",
      "61/61 [==============================] - 8s 139ms/step - loss: 1.6254 - accuracy: 0.6064 - val_loss: 0.9351 - val_accuracy: 0.7034\n",
      "Epoch 3/300\n",
      "61/61 [==============================] - 9s 140ms/step - loss: 1.1168 - accuracy: 0.7278 - val_loss: 0.6857 - val_accuracy: 0.7627\n",
      "Epoch 4/300\n",
      "61/61 [==============================] - 9s 142ms/step - loss: 0.7809 - accuracy: 0.7918 - val_loss: 0.6072 - val_accuracy: 0.8008\n",
      "Epoch 5/300\n",
      "61/61 [==============================] - 9s 144ms/step - loss: 0.6645 - accuracy: 0.8171 - val_loss: 0.4370 - val_accuracy: 0.8602\n",
      "Epoch 6/300\n",
      "61/61 [==============================] - 9s 147ms/step - loss: 0.5728 - accuracy: 0.8445 - val_loss: 0.4263 - val_accuracy: 0.8814\n",
      "Epoch 7/300\n",
      "61/61 [==============================] - 9s 148ms/step - loss: 0.4443 - accuracy: 0.8760 - val_loss: 0.3548 - val_accuracy: 0.9237\n",
      "Epoch 8/300\n",
      "61/61 [==============================] - 9s 149ms/step - loss: 0.3660 - accuracy: 0.8858 - val_loss: 0.3325 - val_accuracy: 0.9195\n",
      "Epoch 9/300\n",
      "61/61 [==============================] - 9s 150ms/step - loss: 0.3183 - accuracy: 0.9075 - val_loss: 0.5303 - val_accuracy: 0.8771\n",
      "Epoch 10/300\n",
      "61/61 [==============================] - 9s 153ms/step - loss: 0.2523 - accuracy: 0.9225 - val_loss: 0.3329 - val_accuracy: 0.9237\n",
      "Epoch 11/300\n",
      "61/61 [==============================] - 9s 156ms/step - loss: 0.2825 - accuracy: 0.9163 - val_loss: 0.4949 - val_accuracy: 0.8856\n",
      "Epoch 12/300\n",
      "61/61 [==============================] - 10s 158ms/step - loss: 0.2276 - accuracy: 0.9323 - val_loss: 0.3723 - val_accuracy: 0.9068\n",
      "Epoch 13/300\n",
      "61/61 [==============================] - 10s 157ms/step - loss: 0.2149 - accuracy: 0.9401 - val_loss: 0.3453 - val_accuracy: 0.9068\n",
      "Epoch 14/300\n",
      "61/61 [==============================] - 9s 154ms/step - loss: 0.1981 - accuracy: 0.9365 - val_loss: 0.6994 - val_accuracy: 0.8856\n",
      "Epoch 15/300\n",
      "61/61 [==============================] - 9s 153ms/step - loss: 0.1712 - accuracy: 0.9468 - val_loss: 0.3825 - val_accuracy: 0.9280\n",
      "Epoch 16/300\n",
      "61/61 [==============================] - 9s 151ms/step - loss: 0.1507 - accuracy: 0.9530 - val_loss: 0.3961 - val_accuracy: 0.8941\n",
      "Epoch 17/300\n",
      "61/61 [==============================] - 9s 151ms/step - loss: 0.1269 - accuracy: 0.9587 - val_loss: 0.3939 - val_accuracy: 0.9153\n",
      "Epoch 18/300\n",
      "61/61 [==============================] - 9s 151ms/step - loss: 0.1424 - accuracy: 0.9545 - val_loss: 0.3818 - val_accuracy: 0.9237\n",
      "Epoch 19/300\n",
      "61/61 [==============================] - 9s 153ms/step - loss: 0.1395 - accuracy: 0.9592 - val_loss: 0.3551 - val_accuracy: 0.9449\n",
      "Epoch 20/300\n",
      "61/61 [==============================] - 9s 153ms/step - loss: 0.1149 - accuracy: 0.9628 - val_loss: 0.4022 - val_accuracy: 0.9153\n",
      "Epoch 21/300\n",
      "61/61 [==============================] - 9s 154ms/step - loss: 0.1455 - accuracy: 0.9556 - val_loss: 0.4450 - val_accuracy: 0.8983\n",
      "Epoch 22/300\n",
      "61/61 [==============================] - 9s 154ms/step - loss: 0.1025 - accuracy: 0.9633 - val_loss: 0.4302 - val_accuracy: 0.9237\n",
      "Epoch 23/300\n",
      "61/61 [==============================] - 9s 153ms/step - loss: 0.0979 - accuracy: 0.9706 - val_loss: 0.4241 - val_accuracy: 0.9280\n",
      "Epoch 24/300\n",
      "61/61 [==============================] - 9s 153ms/step - loss: 0.1022 - accuracy: 0.9654 - val_loss: 0.5319 - val_accuracy: 0.8898\n",
      "Epoch 25/300\n",
      "61/61 [==============================] - 9s 153ms/step - loss: 0.1390 - accuracy: 0.9582 - val_loss: 0.4108 - val_accuracy: 0.9237\n",
      "Epoch 26/300\n",
      "61/61 [==============================] - 9s 153ms/step - loss: 0.1217 - accuracy: 0.9587 - val_loss: 0.5240 - val_accuracy: 0.9153\n",
      "Epoch 27/300\n",
      "61/61 [==============================] - 9s 153ms/step - loss: 0.1142 - accuracy: 0.9633 - val_loss: 0.4198 - val_accuracy: 0.9110\n",
      "Epoch 28/300\n",
      "61/61 [==============================] - 9s 153ms/step - loss: 0.1019 - accuracy: 0.9644 - val_loss: 0.4570 - val_accuracy: 0.9237\n"
     ]
    }
   ],
   "source": [
    "history = model.fit(\n",
    "    ds_train,\n",
    "    epochs=300,\n",
    "    validation_data=ds_val,\n",
    "    callbacks=[early_stopping],\n",
    ")"
   ]
  },
  {
   "cell_type": "code",
   "execution_count": 9,
   "id": "3a2106a2",
   "metadata": {
    "execution": {
     "iopub.execute_input": "2024-01-19T06:26:34.763904Z",
     "iopub.status.busy": "2024-01-19T06:26:34.763001Z",
     "iopub.status.idle": "2024-01-19T06:26:35.305489Z",
     "shell.execute_reply": "2024-01-19T06:26:35.304614Z"
    },
    "papermill": {
     "duration": 0.696773,
     "end_time": "2024-01-19T06:26:35.307613",
     "exception": false,
     "start_time": "2024-01-19T06:26:34.610840",
     "status": "completed"
    },
    "tags": []
   },
   "outputs": [
    {
     "data": {
      "image/png": "[encoded data removed]",
      "text/plain": [
       "<Figure size 640x480 with 1 Axes>"
      ]
     },
     "metadata": {},
     "output_type": "display_data"
    },
    {
     "data": {
      "image/png": "[encoded data removed]",
      "text/plain": [
       "<Figure size 640x480 with 1 Axes>"
      ]
     },
     "metadata": {},
     "output_type": "display_data"
    }
   ],
   "source": [
    "import pandas as pd\n",
    "\n",
    "history_df = pd.DataFrame(history.history)\n",
    "\n",
    "history_df.loc[:, ['loss', 'val_loss']].plot()\n",
    "plt.title(\"Model Loss\")\n",
    "plt.ylabel(\"Loss\")\n",
    "plt.xlabel(\"Epoch\")\n",
    "plt.legend([\"Training Loss\", \"Validation Loss\"])\n",
    "\n",
    "history_df.loc[:, ['accuracy', 'val_accuracy']].plot();\n",
    "plt.title('Model accuracy')\n",
    "plt.ylabel('Accuracy')\n",
    "plt.xlabel('Epoch')\n",
    "plt.legend(['Training Accuracy', 'Validation Accuracy'])\n",
    "plt.show()"
   ]
  },
  {
   "cell_type": "markdown",
   "id": "db287328",
   "metadata": {
    "papermill": {
     "duration": 0.146845,
     "end_time": "2024-01-19T06:26:35.608770",
     "exception": false,
     "start_time": "2024-01-19T06:26:35.461925",
     "status": "completed"
    },
    "tags": []
   },
   "source": [
    "## Confusion Matrix and F1 Score\n",
    "We will now plot a confusion matrix of the model's predictions to visualize the performance of our model on the test dataset."
   ]
  },
  {
   "cell_type": "code",
   "execution_count": 10,
   "id": "8cbc625c",
   "metadata": {
    "execution": {
     "iopub.execute_input": "2024-01-19T06:26:35.921211Z",
     "iopub.status.busy": "2024-01-19T06:26:35.920854Z",
     "iopub.status.idle": "2024-01-19T06:26:40.707126Z",
     "shell.execute_reply": "2024-01-19T06:26:40.705915Z"
    },
    "papermill": {
     "duration": 4.948441,
     "end_time": "2024-01-19T06:26:40.709311",
     "exception": false,
     "start_time": "2024-01-19T06:26:35.760870",
     "status": "completed"
    },
    "tags": []
   },
   "outputs": [
    {
     "name": "stdout",
     "output_type": "stream",
     "text": [
      "8/8 [==============================] - 3s 412ms/step\n",
      "[[20  0  0  1  1  0  0  0  0  0  0  0  0]\n",
      " [ 0 10  0  0  2  0  0  0  0  0  0  0  0]\n",
      " [ 0  0 16  0  1  0  0  0  0  1  0  0  0]\n",
      " [ 0  0  0 18  0  0  1  0  0  0  0  0  0]\n",
      " [ 0  0  0  0 14  0  0  0  0  0  0  0  0]\n",
      " [ 0  0  1  0  0 18  0  0  0  0  0  0  0]\n",
      " [ 0  0  0  0  0  0 20  0  0  0  0  0  0]\n",
      " [ 0  0  0  0  0  0  0 20  2  1  4  0  1]\n",
      " [ 0  0  0  0  0  0  0  0  7  0  0  0  0]\n",
      " [ 0  0  0  0  0  0  0  0  1 18  0  0  0]\n",
      " [ 0  0  0  0  0  0  0  0  0  0 13  0  0]\n",
      " [ 0  0  0  0  0  0  0  0  1  0  1 19  0]\n",
      " [ 0  0  0  0  0  0  0  1  0  0  1  0 20]]\n"
     ]
    }
   ],
   "source": [
    "import numpy as np\n",
    "import seaborn as sns\n",
    "from sklearn.metrics import confusion_matrix\n",
    "\n",
    "def labels_from_dataset(dataset: tf.data.Dataset, batched: bool = False):\n",
    "    labels = list(map(lambda x: x[1], dataset))\n",
    "    return tf.concat(labels, axis=0)\n",
    "\n",
    "labels = labels_from_dataset(ds_test)\n",
    "predictions = model.predict(ds_test)\n",
    "\n",
    "y_predictions = np.argmax(predictions, axis=1)\n",
    "y_true = np.argmax(labels, axis=1)\n",
    "\n",
    "conf_matrix = confusion_matrix(y_predictions, y_true)\n",
    "\n",
    "print(conf_matrix)"
   ]
  },
  {
   "cell_type": "code",
   "execution_count": 11,
   "id": "1701e735",
   "metadata": {
    "execution": {
     "iopub.execute_input": "2024-01-19T06:26:41.075725Z",
     "iopub.status.busy": "2024-01-19T06:26:41.075356Z",
     "iopub.status.idle": "2024-01-19T06:26:42.010089Z",
     "shell.execute_reply": "2024-01-19T06:26:42.009068Z"
    },
    "papermill": {
     "duration": 1.126558,
     "end_time": "2024-01-19T06:26:42.014151",
     "exception": false,
     "start_time": "2024-01-19T06:26:40.887593",
     "status": "completed"
    },
    "tags": []
   },
   "outputs": [
    {
     "data": {
      "text/plain": [
       "[Text(0, 0.5, 'bb'),\n",
       " Text(0, 1.5, 'bk'),\n",
       " Text(0, 2.5, 'bn'),\n",
       " Text(0, 3.5, 'bp'),\n",
       " Text(0, 4.5, 'bq'),\n",
       " Text(0, 5.5, 'br'),\n",
       " Text(0, 6.5, 'empty'),\n",
       " Text(0, 7.5, 'wb'),\n",
       " Text(0, 8.5, 'wk'),\n",
       " Text(0, 9.5, 'wn'),\n",
       " Text(0, 10.5, 'wp'),\n",
       " Text(0, 11.5, 'wq'),\n",
       " Text(0, 12.5, 'wr')]"
      ]
     },
     "execution_count": 11,
     "metadata": {},
     "output_type": "execute_result"
    },
    {
     "data": {
      "image/png": "[encoded data removed]",
      "text/plain": [
       "<Figure size 1500x750 with 2 Axes>"
      ]
     },
     "metadata": {},
     "output_type": "display_data"
    }
   ],
   "source": [
    "# plot with seaborn\n",
    "class_names = ['bb', 'bk', \"bn\", \"bp\", \"bq\", \"br\", \"empty\", \"wb\", \"wk\", \"wn\", \"wp\", \"wq\", \"wr\"]\n",
    "\n",
    "plt.figure(figsize=(15, 7.5))\n",
    "ax = plt.subplot()\n",
    "sns.heatmap(conf_matrix, cmap=\"Blues\", annot=True, ax=ax)\n",
    "\n",
    "ax.set_xlabel(\"Predicted Classes\")\n",
    "ax.set_ylabel(\"True Classes\")\n",
    "ax.set_title(\"Confusion Matrix - Test Dataset\")\n",
    "ax.xaxis.set_ticklabels(class_names)\n",
    "ax.yaxis.set_ticklabels(class_names)"
   ]
  },
  {
   "cell_type": "code",
   "execution_count": 12,
   "id": "a831f069",
   "metadata": {
    "execution": {
     "iopub.execute_input": "2024-01-19T06:26:42.339116Z",
     "iopub.status.busy": "2024-01-19T06:26:42.338733Z",
     "iopub.status.idle": "2024-01-19T06:26:42.376452Z",
     "shell.execute_reply": "2024-01-19T06:26:42.375043Z"
    },
    "papermill": {
     "duration": 0.196496,
     "end_time": "2024-01-19T06:26:42.378490",
     "exception": false,
     "start_time": "2024-01-19T06:26:42.181994",
     "status": "completed"
    },
    "tags": []
   },
   "outputs": [
    {
     "name": "stdout",
     "output_type": "stream",
     "text": [
      "+----------+-------------+----------+------------+-----------+\n",
      "| Class    |   Precision |   Recall |   F1-Score |   Support |\n",
      "+==========+=============+==========+============+===========+\n",
      "| bb       |       0.909 |    1     |      0.952 |        20 |\n",
      "+----------+-------------+----------+------------+-----------+\n",
      "| bk       |       0.833 |    1     |      0.909 |        10 |\n",
      "+----------+-------------+----------+------------+-----------+\n",
      "| bn       |       0.889 |    0.941 |      0.914 |        17 |\n",
      "+----------+-------------+----------+------------+-----------+\n",
      "| bp       |       0.947 |    0.947 |      0.947 |        19 |\n",
      "+----------+-------------+----------+------------+-----------+\n",
      "| bq       |       1     |    0.778 |      0.875 |        18 |\n",
      "+----------+-------------+----------+------------+-----------+\n",
      "| br       |       0.947 |    1     |      0.973 |        18 |\n",
      "+----------+-------------+----------+------------+-----------+\n",
      "| empty    |       1     |    0.952 |      0.976 |        21 |\n",
      "+----------+-------------+----------+------------+-----------+\n",
      "| wb       |       0.714 |    0.952 |      0.816 |        21 |\n",
      "+----------+-------------+----------+------------+-----------+\n",
      "| wk       |       1     |    0.636 |      0.778 |        11 |\n",
      "+----------+-------------+----------+------------+-----------+\n",
      "| wn       |       0.947 |    0.9   |      0.923 |        20 |\n",
      "+----------+-------------+----------+------------+-----------+\n",
      "| wp       |       1     |    0.684 |      0.813 |        19 |\n",
      "+----------+-------------+----------+------------+-----------+\n",
      "| wq       |       0.905 |    1     |      0.95  |        19 |\n",
      "+----------+-------------+----------+------------+-----------+\n",
      "| wr       |       0.909 |    0.952 |      0.93  |        21 |\n",
      "+----------+-------------+----------+------------+-----------+\n",
      "|          |             |          |            |           |\n",
      "+----------+-------------+----------+------------+-----------+\n",
      "| accuracy |       0.91  |  234     |            |           |\n",
      "+----------+-------------+----------+------------+-----------+\n"
     ]
    }
   ],
   "source": [
    "from sklearn.metrics import classification_report\n",
    "from sklearn.metrics import accuracy_score\n",
    "from tabulate import tabulate\n",
    "\n",
    "report = classification_report(\n",
    "    y_true, y_predictions,\n",
    "    target_names=class_names,\n",
    "    digits=3\n",
    ")\n",
    "\n",
    "# show nice table with tabulate\n",
    "report_data = []\n",
    "lines = report.split('\\n')\n",
    "for line in lines[2:-3]:\n",
    "    row = line.split()\n",
    "    report_data.append(row)\n",
    "\n",
    "table = tabulate(report_data, headers=['Class', 'Precision', 'Recall', 'F1-Score', 'Support'], tablefmt='grid')\n",
    "print(table)"
   ]
  },
  {
   "cell_type": "code",
   "execution_count": 13,
   "id": "7eecaee7",
   "metadata": {
    "execution": {
     "iopub.execute_input": "2024-01-19T06:26:42.677781Z",
     "iopub.status.busy": "2024-01-19T06:26:42.677437Z",
     "iopub.status.idle": "2024-01-19T06:26:42.683687Z",
     "shell.execute_reply": "2024-01-19T06:26:42.682563Z"
    },
    "papermill": {
     "duration": 0.157569,
     "end_time": "2024-01-19T06:26:42.685888",
     "exception": false,
     "start_time": "2024-01-19T06:26:42.528319",
     "status": "completed"
    },
    "tags": []
   },
   "outputs": [
    {
     "name": "stdout",
     "output_type": "stream",
     "text": [
      "Total Accuracy: 0.9102564102564102\n"
     ]
    }
   ],
   "source": [
    "accuracy = accuracy_score(y_true, y_predictions)\n",
    "print(f\"Total Accuracy: {accuracy}\")"
   ]
  },
  {
   "cell_type": "markdown",
   "id": "4895d1cc",
   "metadata": {
    "papermill": {
     "duration": 0.149435,
     "end_time": "2024-01-19T06:26:42.986639",
     "exception": false,
     "start_time": "2024-01-19T06:26:42.837204",
     "status": "completed"
    },
    "tags": []
   },
   "source": [
    "## Evaluating Performance\n",
    "The classifier seems to perform well across most classes, with high precision, recall, and F1-scores for many classes.\n",
    "\n",
    "Some classes, such as 'wb', 'wk', and 'wp', show slightly lower scores, indicating potential challenges in correctly classifying these instances.\n",
    "\n",
    "The overall accuracy is 91.9%, suggesting that the model is effective in making correct predictions across all classes.\n",
    "\n",
    "The macro and weighted averages are close to each other, indicating a balanced performance across different classes."
   ]
  },
  {
   "cell_type": "markdown",
   "id": "3ec08a4b",
   "metadata": {
    "papermill": {
     "duration": 0.149771,
     "end_time": "2024-01-19T06:26:43.284632",
     "exception": false,
     "start_time": "2024-01-19T06:26:43.134861",
     "status": "completed"
    },
    "tags": []
   },
   "source": [
    "## TODO\n",
    "Take a couple hundred pictures of chess pieces in real life and use my model on these pictures, to see how well it performs in the real world. "
   ]
  },
  {
   "cell_type": "code",
   "execution_count": null,
   "id": "9731d464",
   "metadata": {
    "papermill": {
     "duration": 0.148263,
     "end_time": "2024-01-19T06:26:43.582609",
     "exception": false,
     "start_time": "2024-01-19T06:26:43.434346",
     "status": "completed"
    },
    "tags": []
   },
   "outputs": [],
   "source": []
  }
 ],
 "metadata": {
  "kaggle": {
   "accelerator": "nvidiaTeslaT4",
   "dataSources": [
    {
     "datasetId": 1791320,
     "sourceId": 2922174,
     "sourceType": "datasetVersion"
    },
    {
     "datasetId": 1791321,
     "sourceId": 2922175,
     "sourceType": "datasetVersion"
    },
    {
     "datasetId": 1791324,
     "sourceId": 2922179,
     "sourceType": "datasetVersion"
    }
   ],
   "dockerImageVersionId": 30636,
   "isGpuEnabled": true,
   "isInternetEnabled": true,
   "language": "python",
   "sourceType": "notebook"
  },
  "kernelspec": {
   "display_name": "Python 3",
   "language": "python",
   "name": "python3"
  },
  "language_info": {
   "codemirror_mode": {
    "name": "ipython",
    "version": 3
   },
   "file_extension": ".py",
   "mimetype": "text/x-python",
   "name": "python",
   "nbconvert_exporter": "python",
   "pygments_lexer": "ipython3",
   "version": "3.10.12"
  },
  "papermill": {
   "default_parameters": {},
   "duration": 306.852277,
   "end_time": "2024-01-19T06:26:46.790296",
   "environment_variables": {},
   "exception": null,
   "input_path": "__notebook__.ipynb",
   "output_path": "__notebook__.ipynb",
   "parameters": {},
   "start_time": "2024-01-19T06:21:39.938019",
   "version": "2.4.0"
  }
 },
 "nbformat": 4,
 "nbformat_minor": 5
}
